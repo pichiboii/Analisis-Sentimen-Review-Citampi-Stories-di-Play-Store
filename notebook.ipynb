{
 "cells": [
  {
   "cell_type": "markdown",
   "id": "55f95b40-6909-47a7-9402-230360196453",
   "metadata": {},
   "source": [
    "# Proyek Analisis Sentimen : Review Game Citampi Stories di Play Store (Modeling)\n",
    "- **Nama:** Hafizha Aghnia Hasya\n",
    "- **Email:** \tmc006d5x2114@student.devacademy.id\n",
    "- **ID Dicoding:** MC006D5X2114"
   ]
  },
  {
   "cell_type": "markdown",
   "id": "b648a614-6b40-461a-99ae-37120441a47d",
   "metadata": {
    "tags": []
   },
   "source": [
    "## Import Library"
   ]
  },
  {
   "cell_type": "code",
   "execution_count": 1,
   "id": "6799ea8c-9a34-4ec4-810c-8a8027a0d284",
   "metadata": {},
   "outputs": [],
   "source": [
    "import numpy as np\n",
    "import pandas as pd\n",
    "seed = 0\n",
    "np.random.seed(seed)  # Mengatur seed untuk reproduktibilitas\n",
    "import matplotlib.pyplot as plt\n",
    "import seaborn as sns\n",
    "\n",
    "from sklearn.preprocessing import LabelEncoder\n",
    "from sklearn.model_selection import train_test_split\n",
    "from sklearn.feature_extraction.text import TfidfVectorizer, CountVectorizer\n",
    "\n",
    "import xgboost as xgb\n",
    "from sklearn.naive_bayes import MultinomialNB\n",
    "from sklearn.linear_model import LogisticRegression\n",
    "from sklearn.svm import SVC\n",
    "from sklearn.metrics import accuracy_score"
   ]
  },
  {
   "cell_type": "markdown",
   "id": "35c410d0-7c42-4740-bfd2-c14f40a7d2c0",
   "metadata": {
    "jp-MarkdownHeadingCollapsed": true,
    "tags": []
   },
   "source": [
    "## Loading Dataset"
   ]
  },
  {
   "cell_type": "code",
   "execution_count": 2,
   "id": "4f188745-5316-4b35-9ccd-99bfd4b3a55a",
   "metadata": {},
   "outputs": [
    {
     "data": {
      "text/html": [
       "<div>\n",
       "<style scoped>\n",
       "    .dataframe tbody tr th:only-of-type {\n",
       "        vertical-align: middle;\n",
       "    }\n",
       "\n",
       "    .dataframe tbody tr th {\n",
       "        vertical-align: top;\n",
       "    }\n",
       "\n",
       "    .dataframe thead th {\n",
       "        text-align: right;\n",
       "    }\n",
       "</style>\n",
       "<table border=\"1\" class=\"dataframe\">\n",
       "  <thead>\n",
       "    <tr style=\"text-align: right;\">\n",
       "      <th></th>\n",
       "      <th>text_akhir</th>\n",
       "      <th>polarity</th>\n",
       "    </tr>\n",
       "  </thead>\n",
       "  <tbody>\n",
       "    <tr>\n",
       "      <th>0</th>\n",
       "      <td>mantap bangett karya negara sendirismeangatt t...</td>\n",
       "      <td>positive</td>\n",
       "    </tr>\n",
       "    <tr>\n",
       "      <th>1</th>\n",
       "      <td>gameplay grafiknya udah memuaskan char cewekny...</td>\n",
       "      <td>negative</td>\n",
       "    </tr>\n",
       "    <tr>\n",
       "      <th>2</th>\n",
       "      <td>udah bagus reward pas tentuin jam malam jam pa...</td>\n",
       "      <td>positive</td>\n",
       "    </tr>\n",
       "    <tr>\n",
       "      <th>3</th>\n",
       "      <td>segi story gambarnya bagus quest membangun per...</td>\n",
       "      <td>positive</td>\n",
       "    </tr>\n",
       "    <tr>\n",
       "      <th>4</th>\n",
       "      <td>udah bagustapi karakter hilangwaktu citampi st...</td>\n",
       "      <td>negative</td>\n",
       "    </tr>\n",
       "  </tbody>\n",
       "</table>\n",
       "</div>"
      ],
      "text/plain": [
       "                                          text_akhir  polarity\n",
       "0  mantap bangett karya negara sendirismeangatt t...  positive\n",
       "1  gameplay grafiknya udah memuaskan char cewekny...  negative\n",
       "2  udah bagus reward pas tentuin jam malam jam pa...  positive\n",
       "3  segi story gambarnya bagus quest membangun per...  positive\n",
       "4  udah bagustapi karakter hilangwaktu citampi st...  negative"
      ]
     },
     "execution_count": 2,
     "metadata": {},
     "output_type": "execute_result"
    }
   ],
   "source": [
    "review = pd.read_csv('citampi_reviews.csv')\n",
    "\n",
    "review.head()"
   ]
  },
  {
   "cell_type": "code",
   "execution_count": 3,
   "id": "977d069c-0ec5-4e43-9ffe-232f74f55069",
   "metadata": {},
   "outputs": [
    {
     "name": "stdout",
     "output_type": "stream",
     "text": [
      "<class 'pandas.core.frame.DataFrame'>\n",
      "RangeIndex: 59778 entries, 0 to 59777\n",
      "Data columns (total 2 columns):\n",
      " #   Column      Non-Null Count  Dtype \n",
      "---  ------      --------------  ----- \n",
      " 0   text_akhir  59346 non-null  object\n",
      " 1   polarity    59778 non-null  object\n",
      "dtypes: object(2)\n",
      "memory usage: 934.2+ KB\n"
     ]
    }
   ],
   "source": [
    "review.info()"
   ]
  },
  {
   "cell_type": "markdown",
   "id": "b1238e99-7f22-411f-b63d-940f377000ed",
   "metadata": {},
   "source": [
    "terdapat missing value pada text_akhir, kemungkinan ini karena review berisi simbol atau emoticon yang tidak terbaca, oleh karena itu menghasilkan null setelah preprocessing. \n",
    "\n",
    "perlu dilakukan drop pada data yang missing value"
   ]
  },
  {
   "cell_type": "code",
   "execution_count": 4,
   "id": "75c355b6-a838-4f73-8f29-d423d20afcde",
   "metadata": {
    "tags": []
   },
   "outputs": [],
   "source": [
    "# drop missing value\n",
    "review = review.dropna(subset=['text_akhir'])"
   ]
  },
  {
   "cell_type": "code",
   "execution_count": 5,
   "id": "587ac1a2-db90-47e3-8970-1d7b3cba1ad9",
   "metadata": {
    "tags": []
   },
   "outputs": [
    {
     "name": "stdout",
     "output_type": "stream",
     "text": [
      "<class 'pandas.core.frame.DataFrame'>\n",
      "Index: 59346 entries, 0 to 59768\n",
      "Data columns (total 2 columns):\n",
      " #   Column      Non-Null Count  Dtype \n",
      "---  ------      --------------  ----- \n",
      " 0   text_akhir  59346 non-null  object\n",
      " 1   polarity    59346 non-null  object\n",
      "dtypes: object(2)\n",
      "memory usage: 1.4+ MB\n"
     ]
    }
   ],
   "source": [
    "review.info()"
   ]
  },
  {
   "cell_type": "markdown",
   "id": "6a9f837a-ad8f-495a-be25-4c7750c30133",
   "metadata": {},
   "source": [
    "**Data yang digunakan sebanyak 59.346**"
   ]
  },
  {
   "cell_type": "markdown",
   "id": "a7cd6d18-00dd-4b81-bcf3-2cd0619ea760",
   "metadata": {
    "jp-MarkdownHeadingCollapsed": true,
    "tags": []
   },
   "source": [
    "## Data Splitting dan Ekstraksi Fitur"
   ]
  },
  {
   "cell_type": "markdown",
   "id": "b9dd723d-3888-4beb-9efa-b0df5b875c25",
   "metadata": {
    "tags": []
   },
   "source": [
    "Pada project ini, akan ada 8 skema percobaan pelatihan seperti berikut\n",
    "- Pelatihan: XGBoost,    Ekstraksi Fitur: Bag of Words,    Pembagian Data: 70/30\n",
    "- Pelatihan: XGBoost,    Ekstraksi Fitur: TF-IDF,    Pembagian Data: 80/20\n",
    "- Pelatihan: Naive Bayes,    Ekstraksi Fitur: Bag of Words,    Pembagian Data: 70/30 \n",
    "- Pelatihan: Naive Bayes,    Ekstraksi Fitur: TF-IDF,    Pembagian Data: 80/20\n",
    "- Pelatihan: Logistic Regression,    Ekstraksi Fitur: Bag of Words,    Pembagian Data: 70/30 \n",
    "- Pelatihan: Logistic Regression,    Ekstraksi Fitur: TF-IDF,    Pembagian Data: 80/20\n",
    "- Pelatihan: SVM linear,    Ekstraksi Fitur: Bag of Words,    Pembagian Data: 70/30\n",
    "- Pelatihan: SVM linear,    Ekstraksi Fitur: TF-IDF,    Pembagian Data: 80/20"
   ]
  },
  {
   "cell_type": "code",
   "execution_count": 6,
   "id": "dbf9cdf1-949f-40be-8937-0d30a3fda144",
   "metadata": {},
   "outputs": [
    {
     "name": "stdout",
     "output_type": "stream",
     "text": [
      "\n",
      "TF-IDF - 80/20 Split\n",
      "Training Data Shape: (47476, 41118)\n",
      "Testing Data Shape: (11870, 41118)\n",
      "\n",
      "Bag of Words (BoW) - 70/30 Split\n",
      "Training Data Shape: (41542, 37499)\n",
      "Testing Data Shape: (17804, 37499)\n"
     ]
    }
   ],
   "source": [
    "X = review['text_akhir']\n",
    "y = review['polarity']\n",
    "\n",
    "label_encoder = LabelEncoder()\n",
    "# melakukan encoding pada label\n",
    "y = label_encoder.fit_transform(y)\n",
    "\n",
    "# membagi data menjadi 80% untuk training dan 20% untuk testing\n",
    "X_train_80, X_test_80, y_train_80, y_test_80 = train_test_split(X, y, test_size=0.2, random_state=42)\n",
    "\n",
    "# membagi data menjadi 70% untuk training dan 30% untuk testing\n",
    "X_train_70, X_test_70, y_train_70, y_test_70 = train_test_split(X, y, test_size=0.3, random_state=42)\n",
    "\n",
    "# ekstraksi fitur menggunakan TF-IDF\n",
    "vectorizer_tfidf = TfidfVectorizer()\n",
    "\n",
    "# TF-IDF untuk 80/20 split\n",
    "X_train_80_tfidf = vectorizer_tfidf.fit_transform(X_train_80)\n",
    "X_test_80_tfidf = vectorizer_tfidf.transform(X_test_80)\n",
    "\n",
    "# ekstraksi fitur menggunakan BoW\n",
    "vectorizer_bow = CountVectorizer()\n",
    "\n",
    "# boW untuk 70/30 split\n",
    "X_train_70_bow = vectorizer_bow.fit_transform(X_train_70)\n",
    "X_test_70_bow = vectorizer_bow.transform(X_test_70)\n",
    "\n",
    "\n",
    "print(\"\\nTF-IDF - 80/20 Split\")\n",
    "print(\"Training Data Shape:\", X_train_80_tfidf.shape)\n",
    "print(\"Testing Data Shape:\", X_test_80_tfidf.shape)\n",
    "\n",
    "print(\"\\nBag of Words (BoW) - 70/30 Split\")\n",
    "print(\"Training Data Shape:\", X_train_70_bow.shape)\n",
    "print(\"Testing Data Shape:\", X_test_70_bow.shape)"
   ]
  },
  {
   "cell_type": "markdown",
   "id": "116c0557-003f-4c92-bc2e-1dc899ad6c8f",
   "metadata": {
    "jp-MarkdownHeadingCollapsed": true,
    "tags": []
   },
   "source": [
    "## Modeling"
   ]
  },
  {
   "cell_type": "code",
   "execution_count": 7,
   "id": "b900e686-cbdc-4dfb-b792-f710ea35c38a",
   "metadata": {},
   "outputs": [
    {
     "name": "stdout",
     "output_type": "stream",
     "text": [
      "XGBoost Train Accuracy (BoW): 0.8285590486736315\n",
      "XGBoost Test Accuracy (BoW): 0.7762300606605257\n",
      "============================================================\n",
      "XGBoost Train Accuracy (TF-IDF): 0.8503875642429859\n",
      "XGBoost Test Accuracy (TF-IDF): 0.7781802864363943\n"
     ]
    }
   ],
   "source": [
    "# ===================== XGBoost - Bag of Words =====================\n",
    "xgb_model_bow = xgb.XGBClassifier(use_label_encoder=False, eval_metric='mlogloss')\n",
    "xgb_model_bow.fit(X_train_70_bow, y_train_70)\n",
    "\n",
    "xgb_train_pred_bow = xgb_model_bow.predict(X_train_70_bow)\n",
    "xgb_test_pred_bow = xgb_model_bow.predict(X_test_70_bow)\n",
    "\n",
    "xgb_bow_acc_train = accuracy_score(y_train_70, xgb_train_pred_bow)\n",
    "xgb_bow_acc_test = accuracy_score(y_test_70, xgb_test_pred_bow)\n",
    "print(\"XGBoost Train Accuracy (BoW):\", xgb_bow_acc_train)\n",
    "print(\"XGBoost Test Accuracy (BoW):\", xgb_bow_acc_test)\n",
    "print(\"======\"*10)\n",
    "\n",
    "\n",
    "# ===================== XGBoost - TF-IDF =====================\n",
    "xgb_model_tfidf = xgb.XGBClassifier(use_label_encoder=False, eval_metric='mlogloss')\n",
    "xgb_model_tfidf.fit(X_train_80_tfidf, y_train_80)\n",
    "\n",
    "xgb_train_pred_tfidf = xgb_model_tfidf.predict(X_train_80_tfidf)\n",
    "xgb_test_pred_tfidf = xgb_model_tfidf.predict(X_test_80_tfidf)\n",
    "\n",
    "xgb_tfidf_acc_train = accuracy_score(y_train_80, xgb_train_pred_tfidf)\n",
    "xgb_tfidf_acc_test = accuracy_score(y_test_80, xgb_test_pred_tfidf)\n",
    "print(\"XGBoost Train Accuracy (TF-IDF):\", xgb_tfidf_acc_train)\n",
    "print(\"XGBoost Test Accuracy (TF-IDF):\", xgb_tfidf_acc_test)"
   ]
  },
  {
   "cell_type": "code",
   "execution_count": 8,
   "id": "89659c51-332a-4dff-be6c-e454e1548399",
   "metadata": {},
   "outputs": [
    {
     "name": "stdout",
     "output_type": "stream",
     "text": [
      "Naive Bayes Train Accuracy (BoW): 0.8243705165856242\n",
      "Naive Bayes Test Accuracy (BoW): 0.6992248932824084\n",
      "============================================================\n",
      "Naive Bayes Train Accuracy (TF-IDF): 0.7633541157637543\n",
      "Naive Bayes Test Accuracy (TF-IDF): 0.6698399326032013\n"
     ]
    }
   ],
   "source": [
    "# ===================== Naive Bayes - Bag of Words =====================\n",
    "nb_model_bow = MultinomialNB()\n",
    "nb_model_bow.fit(X_train_70_bow, y_train_70)\n",
    "\n",
    "nb_train_pred_bow = nb_model_bow.predict(X_train_70_bow)  # Prediksi training\n",
    "nb_test_pred_bow = nb_model_bow.predict(X_test_70_bow)\n",
    "\n",
    "nb_bow_acc_train = accuracy_score(y_train_70, nb_train_pred_bow)\n",
    "nb_bow_acc_test = accuracy_score(y_test_70, nb_test_pred_bow)\n",
    "print(\"Naive Bayes Train Accuracy (BoW):\", nb_bow_acc_train)\n",
    "print(\"Naive Bayes Test Accuracy (BoW):\", nb_bow_acc_test)\n",
    "print(\"======\"*10)\n",
    "\n",
    "# ===================== Naive Bayes - TF-IDF =====================\n",
    "nb_model_tfidf = MultinomialNB()\n",
    "nb_model_tfidf.fit(X_train_80_tfidf, y_train_80)\n",
    "\n",
    "nb_train_pred_tfidf = nb_model_tfidf.predict(X_train_80_tfidf)\n",
    "nb_test_pred_tfidf = nb_model_tfidf.predict(X_test_80_tfidf)\n",
    "\n",
    "nb_tfidf_acc_train = accuracy_score(y_train_80, nb_train_pred_tfidf)\n",
    "nb_tfidf_acc_test = accuracy_score(y_test_80, nb_test_pred_tfidf)\n",
    "print(\"Naive Bayes Train Accuracy (TF-IDF):\", nb_tfidf_acc_train)\n",
    "print(\"Naive Bayes Test Accuracy (TF-IDF):\", nb_tfidf_acc_test)"
   ]
  },
  {
   "cell_type": "code",
   "execution_count": 9,
   "id": "c4b226f7-3a3e-4658-a3a8-eb0b11d41668",
   "metadata": {},
   "outputs": [
    {
     "name": "stdout",
     "output_type": "stream",
     "text": [
      "Logistic Regression Train Accuracy (BoW): 0.9757354003177507\n",
      "Logistic Regression Test Accuracy (BoW): 0.8842956638957538\n",
      "============================================================\n",
      "Logistic Regression Train Accuracy (TF-IDF): 0.8876484960822311\n",
      "Logistic Regression Test Accuracy (TF-IDF): 0.8256107834877844\n"
     ]
    }
   ],
   "source": [
    "# ===================== Logistic Regression - Bag of Words =====================\n",
    "logreg_model_bow = LogisticRegression(max_iter=1000)\n",
    "logreg_model_bow.fit(X_train_70_bow, y_train_70)\n",
    "\n",
    "logreg_train_pred_bow = logreg_model_bow.predict(X_train_70_bow)\n",
    "logreg_test_pred_bow = logreg_model_bow.predict(X_test_70_bow)\n",
    "\n",
    "logreg_bow_acc_train = accuracy_score(y_train_70, logreg_train_pred_bow)\n",
    "logreg_bow_acc_test = accuracy_score(y_test_70, logreg_test_pred_bow)\n",
    "print(\"Logistic Regression Train Accuracy (BoW):\", logreg_bow_acc_train)\n",
    "print(\"Logistic Regression Test Accuracy (BoW):\", logreg_bow_acc_test)\n",
    "print(\"======\"*10)\n",
    "\n",
    "# ===================== Logistic Regression - TF-IDF =====================\n",
    "logreg_model_tfidf = LogisticRegression(max_iter=1000)\n",
    "logreg_model_tfidf.fit(X_train_80_tfidf, y_train_80)\n",
    "\n",
    "logreg_train_pred_tfidf = logreg_model_tfidf.predict(X_train_80_tfidf)\n",
    "logreg_test_pred_tfidf = logreg_model_tfidf.predict(X_test_80_tfidf)\n",
    "\n",
    "logreg_tfidf_acc_train = accuracy_score(y_train_80, logreg_train_pred_tfidf)\n",
    "logreg_tfidf_acc_test = accuracy_score(y_test_80, logreg_test_pred_tfidf)\n",
    "print(\"Logistic Regression Train Accuracy (TF-IDF):\", logreg_tfidf_acc_train)\n",
    "print(\"Logistic Regression Test Accuracy (TF-IDF):\", logreg_tfidf_acc_test)"
   ]
  },
  {
   "cell_type": "code",
   "execution_count": 10,
   "id": "3b228e50-5502-420f-89c8-f601598d6424",
   "metadata": {},
   "outputs": [
    {
     "name": "stdout",
     "output_type": "stream",
     "text": [
      "SVM Train Accuracy (BoW): 0.9894323816860046\n",
      "SVM Test Accuracy (BoW): 0.9050775106717591\n",
      "============================================================\n",
      "SVM Train Accuracy (TF-IDF): 0.9282163619513017\n",
      "SVM Test Accuracy (TF-IDF): 0.8486941870261162\n"
     ]
    }
   ],
   "source": [
    "# ===================== SVM Linear - Bag of Words =====================\n",
    "svm_model_bow = SVC(kernel='linear')\n",
    "svm_model_bow.fit(X_train_70_bow, y_train_70)\n",
    "\n",
    "svm_train_pred_bow = svm_model_bow.predict(X_train_70_bow)\n",
    "svm_test_pred_bow = svm_model_bow.predict(X_test_70_bow)\n",
    "\n",
    "svm_bow_acc_train = accuracy_score(y_train_70, svm_train_pred_bow)\n",
    "svm_bow_acc_test = accuracy_score(y_test_70, svm_test_pred_bow)\n",
    "print(\"SVM Train Accuracy (BoW):\", svm_bow_acc_train)\n",
    "print(\"SVM Test Accuracy (BoW):\", svm_bow_acc_test)\n",
    "print(\"======\"*10)\n",
    "\n",
    "# ===================== SVM Linear - TF-IDF =====================\n",
    "svm_model_tfidf = SVC(kernel='linear')\n",
    "svm_model_tfidf.fit(X_train_80_tfidf, y_train_80)\n",
    "\n",
    "svm_train_pred_tfidf = svm_model_tfidf.predict(X_train_80_tfidf)\n",
    "svm_test_pred_tfidf = svm_model_tfidf.predict(X_test_80_tfidf)\n",
    "\n",
    "svm_tfidf_acc_train = accuracy_score(y_train_80, svm_train_pred_tfidf)\n",
    "svm_tfidf_acc_test = accuracy_score(y_test_80, svm_test_pred_tfidf)\n",
    "print(\"SVM Train Accuracy (TF-IDF):\", svm_tfidf_acc_train)\n",
    "print(\"SVM Test Accuracy (TF-IDF):\", svm_tfidf_acc_test)"
   ]
  },
  {
   "cell_type": "markdown",
   "id": "2670bc91-822b-4444-994b-7bd6d8e0852e",
   "metadata": {},
   "source": [
    "## Inference / Testing"
   ]
  },
  {
   "cell_type": "code",
   "execution_count": 11,
   "id": "d4fb501c-d404-43d2-b13d-05aab7251056",
   "metadata": {},
   "outputs": [
    {
     "data": {
      "image/png": "[encoded data removed]",
      "text/plain": [
       "<Figure size 1000x600 with 1 Axes>"
      ]
     },
     "metadata": {},
     "output_type": "display_data"
    }
   ],
   "source": [
    "# data akurasi dari setiap model\n",
    "models = ['XGBoost', 'Naive Bayes', 'Logistic Regression', 'SVM']\n",
    "accuracy_bow = [xgb_bow_acc_test, nb_bow_acc_test, logreg_bow_acc_test, svm_bow_acc_test]\n",
    "accuracy_tfidf = [xgb_tfidf_acc_test, nb_tfidf_acc_test, logreg_tfidf_acc_test, svm_tfidf_acc_test]\n",
    "\n",
    "# membuat DataFrame untuk visualisasi\n",
    "df = pd.DataFrame({\n",
    "    'Model': models * 2,\n",
    "    'Akurasi': accuracy_bow + accuracy_tfidf,\n",
    "    'Ekstraksi Fitur': ['BoW'] * 4 + ['TF-IDF'] * 4\n",
    "})\n",
    "\n",
    "plt.figure(figsize=(10, 6))\n",
    "sns.barplot(data=df, x='Model', y='Akurasi', hue='Ekstraksi Fitur', palette='Set2')\n",
    "\n",
    "plt.title(\"Akurasi Testing dari Berbagai Model dengan BoW dan TF-IDF\")\n",
    "plt.ylabel(\"Akurasi\")\n",
    "plt.xlabel(\"Model\")\n",
    "plt.ylim(0, 1)\n",
    "plt.legend(title=\"Ekstraksi Fitur\")\n",
    "plt.grid(axis='y', linestyle='--', alpha=0.7)\n",
    "\n",
    "plt.show()"
   ]
  },
  {
   "cell_type": "markdown",
   "id": "e67b3106-70d1-4b5f-a975-191ed22b881e",
   "metadata": {},
   "source": [
    "**Insight**\n",
    "- **Akurasi testing tertinggi adalah 90.5%** pada model SVM Bag of Words\n",
    "- Akurasi tertinggi berikutnya adalah **88.4%** (Logistic Regression Bag of Words) dan **84.8%** (SVM TF-IDF)\n",
    "- Untuk model Naive Bayes, Logistic Regression, dan SVM terdapat overfitting di mana akurasi training lebih tinggi daripada testing. Ini dapat dicegah dengan melakukan cross-validation\n",
    "- Model Naive Bayes memiliki akurasi yang paling rendah, mungkin masih bisa ditingkatkan dengan hyperparameter tuning\n",
    "- Akurasi model pada project ini kemungkinan bisa ditingkatkan lagi menggunakan model ensemble seperti voting (saya sudah mencoba nya namun memakan waktu komputasi yang terlalu lama) atau bisa juga menggunakan deep learning (juga memakan waktu komputasi yang terlalu lama walaupun sudah menggunakan gpu, kemungkinan karena banyaknya fitur)"
   ]
  },
  {
   "cell_type": "code",
   "execution_count": 14,
   "id": "e361388a-ec0e-448d-8518-e9e6239cb0d9",
   "metadata": {
    "tags": []
   },
   "outputs": [
    {
     "name": "stdout",
     "output_type": "stream",
     "text": [
      "Review: \"game bagus dan keren, saya suka\" -> Sentimen: positive\n",
      "Review: \"bagus tapi perlu ditingkatkan lagi\" -> Sentimen: neutral\n",
      "Review: \"buruk sekali, jelek, saya kecewa\" -> Sentimen: negative\n"
     ]
    }
   ],
   "source": [
    "# Contoh review baru yang ingin diuji\n",
    "new_reviews = [\"game bagus dan keren, saya suka\", \n",
    "               \"bagus tapi perlu ditingkatkan lagi\",\n",
    "               \"buruk sekali, jelek, saya kecewa\"]\n",
    "\n",
    "# Transformasikan review ke dalam bentuk fitur (BoW)\n",
    "new_reviews_bow = vectorizer_bow.transform(new_reviews)\n",
    "\n",
    "# Prediksi menggunakan model SVM yang sudah dilatih\n",
    "predictions = svm_model_bow.predict(new_reviews_bow)\n",
    "\n",
    "sentiment_labels = label_encoder.inverse_transform(predictions)\n",
    "\n",
    "for review, sentiment in zip(new_reviews, sentiment_labels):\n",
    "    print(f\"Review: \\\"{review}\\\" -> Sentimen: {sentiment}\")"
   ]
  },
  {
   "cell_type": "code",
   "execution_count": null,
   "id": "4a4cbf49-709b-46b1-a357-e91c176d1434",
   "metadata": {},
   "outputs": [],
   "source": []
  }
 ],
 "metadata": {
  "kernelspec": {
   "display_name": "Python 3 (ipykernel)",
   "language": "python",
   "name": "python3"
  },
  "language_info": {
   "codemirror_mode": {
    "name": "ipython",
    "version": 3
   },
   "file_extension": ".py",
   "mimetype": "text/x-python",
   "name": "python",
   "nbconvert_exporter": "python",
   "pygments_lexer": "ipython3",
   "version": "3.11.3"
  }
 },
 "nbformat": 4,
 "nbformat_minor": 5
}
